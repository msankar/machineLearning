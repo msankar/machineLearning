{
 "cells": [
  {
   "cell_type": "code",
   "execution_count": null,
   "metadata": {
    "collapsed": true
   },
   "outputs": [],
   "source": [
    "Understand notation:\n",
    "$n_{i,k}$: count of topics (1's and 2's) in the document after you decrement the target word \"manager\". \n",
    "    If the target word is for topic 1 then you won't need to decrement since the manager = topic 2. \n",
    "    So you count the 1's. If the target word \"manager\" is for topic 2 then you have to decrement \n",
    "    the single count of topic 2 which then makes your $n_{i,k}$ = 0.\n",
    "$N_i$: count of words in doc i\n",
    "V: total count of vocabulary, which is 10\n",
    "$m_{manager,k}$: total count of word, \"manager\" in the corpus assigned to topic k\n",
    "$\\sum_{w} m_{w,k}$: Sum of count of all words in the corpus assigned to topic k"
   ]
  },
  {
   "cell_type": "code",
   "execution_count": 1,
   "metadata": {
    "collapsed": false
   },
   "outputs": [
    {
     "data": {
      "text/plain": [
       "123"
      ]
     },
     "execution_count": 1,
     "metadata": {},
     "output_type": "execute_result"
    }
   ],
   "source": [
    "52 + 15 + 9 + 9 + 20 + 17 + 1\n"
   ]
  },
  {
   "cell_type": "code",
   "execution_count": 2,
   "metadata": {
    "collapsed": false
   },
   "outputs": [
    {
     "data": {
      "text/plain": [
       "3"
      ]
     },
     "execution_count": 2,
     "metadata": {},
     "output_type": "execute_result"
    }
   ],
   "source": [
    "1+1+1"
   ]
  },
  {
   "cell_type": "code",
   "execution_count": 3,
   "metadata": {
    "collapsed": false
   },
   "outputs": [
    {
     "data": {
      "text/plain": [
       "1"
      ]
     },
     "execution_count": 3,
     "metadata": {},
     "output_type": "execute_result"
    }
   ],
   "source": [
    "# price\n",
    "1"
   ]
  },
  {
   "cell_type": "code",
   "execution_count": 4,
   "metadata": {
    "collapsed": false
   },
   "outputs": [
    {
     "data": {
      "text/plain": [
       "36"
      ]
     },
     "execution_count": 4,
     "metadata": {},
     "output_type": "execute_result"
    }
   ],
   "source": [
    "#mmanager,2\n",
    "37-1"
   ]
  },
  {
   "cell_type": "code",
   "execution_count": 5,
   "metadata": {
    "collapsed": false
   },
   "outputs": [
    {
     "data": {
      "text/plain": [
       "241"
      ]
     },
     "execution_count": 5,
     "metadata": {},
     "output_type": "execute_result"
    }
   ],
   "source": [
    "#∑wmw,2\n",
    "2 + 25 + 36 + 32 + 23 + 75 + 19 + 29"
   ]
  },
  {
   "cell_type": "code",
   "execution_count": null,
   "metadata": {
    "collapsed": true
   },
   "outputs": [],
   "source": [
    "As discussed in the slides, the unnormalized probability of assigning to topic 1 is\n",
    "\n",
    "p1=ni,1+αNi−1+Kαmmanager,1+γ∑wmw,1+Vγ\n",
    "where V is the total size of the vocabulary.\n",
    "\n",
    "Similarly the unnormalized probability of assigning to topic 2 is\n",
    "\n",
    "p2=ni,2+αNi−1+Kαmmanager,2+γ∑wmw,2+Vγ\n",
    "Using the above equations and the results computed in previous questions, \n",
    "compute the probability of assigning the word “manager” to topic 1.\n",
    "\n",
    "(Reminder: Normalize across the two topic options so that the \n",
    " probabilities of all possible assignments---topic 1 and topic 2---sum to 1.)\n",
    "\n",
    "Round your answer to 3 decimal places.\n"
   ]
  },
  {
   "cell_type": "code",
   "execution_count": 6,
   "metadata": {
    "collapsed": true
   },
   "outputs": [],
   "source": [
    "def calculate_unnorm_prob(n_i, alpha, N_i, K, m_word, gamma, sum_of_m, V):\n",
    "    \"\"\" Calculate unnormalized probability of assigning to topic\n",
    "    \"\"\"\n",
    "    left_formula = (n_i + alpha)/(N_i - 1 + (K * alpha))\n",
    "    right_formula = (m_word + gamma)/(sum_of_m + (V * gamma))\n",
    "    prob = left_formula * right_formula\n",
    "    return prob"
   ]
  },
  {
   "cell_type": "code",
   "execution_count": 7,
   "metadata": {
    "collapsed": false
   },
   "outputs": [
    {
     "name": "stdout",
     "output_type": "stream",
     "text": [
      "0.0878024193548\n",
      "0.0683712121212\n",
      "0.562210268949\n"
     ]
    }
   ],
   "source": [
    "\n",
    "unnorm_prob_1 = calculate_unnorm_prob(3, 10.0, 5, 2, 20, 0.1, 123, 10)\n",
    "unnorm_prob_2 = calculate_unnorm_prob(1, 10.0, 5, 2, 36, 0.1, 241, 10)\n",
    "print unnorm_prob_1\n",
    "print unnorm_prob_2\n",
    "prob_1 = unnorm_prob_1/(unnorm_prob_1 + unnorm_prob_2)\n",
    "print prob_1"
   ]
  },
  {
   "cell_type": "code",
   "execution_count": 8,
   "metadata": {
    "collapsed": false
   },
   "outputs": [
    {
     "name": "stdout",
     "output_type": "stream",
     "text": [
      "0.437789731051\n"
     ]
    }
   ],
   "source": [
    "prob_2 = unnorm_prob_2/(unnorm_prob_1 + unnorm_prob_2)\n",
    "print prob_2"
   ]
  },
  {
   "cell_type": "code",
   "execution_count": null,
   "metadata": {
    "collapsed": true
   },
   "outputs": [],
   "source": []
  }
 ],
 "metadata": {
  "kernelspec": {
   "display_name": "Python 2",
   "language": "python",
   "name": "python2"
  },
  "language_info": {
   "codemirror_mode": {
    "name": "ipython",
    "version": 2
   },
   "file_extension": ".py",
   "mimetype": "text/x-python",
   "name": "python",
   "nbconvert_exporter": "python",
   "pygments_lexer": "ipython2",
   "version": "2.7.11"
  }
 },
 "nbformat": 4,
 "nbformat_minor": 0
}
