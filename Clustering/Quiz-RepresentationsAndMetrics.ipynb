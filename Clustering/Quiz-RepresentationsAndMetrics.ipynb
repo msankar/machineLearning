{
 "cells": [
  {
   "cell_type": "code",
   "execution_count": null,
   "metadata": {
    "collapsed": true
   },
   "outputs": [],
   "source": [
    "# The quick brown fox jumps over the lazy dog\n",
    "# A quick brown dog outpaces a quick fox\n",
    "\n",
    "#  x=[# the,# a,# quick,# brown,# fox,# jumps,# over,# lazy,# dog,# outpaces]\n",
    "x = [2,0,1,1,1,1,1,1,1,0]\n",
    "y = [0,2,2,1,1,0,0,0,1,1]\n",
    "    "
   ]
  },
  {
   "cell_type": "code",
   "execution_count": 1,
   "metadata": {
    "collapsed": true
   },
   "outputs": [],
   "source": [
    "x = [2,0,1,1,1,1,1,1,1,0]\n",
    "y = [0,2,2,1,1,0,0,0,1,1]"
   ]
  },
  {
   "cell_type": "code",
   "execution_count": 11,
   "metadata": {
    "collapsed": false
   },
   "outputs": [],
   "source": [
    "import numpy\n",
    "array1=numpy.array(x)\n",
    "array2=numpy.array(y)\n",
    "\n",
    "dist = numpy.linalg.norm(array1-array2)"
   ]
  },
  {
   "cell_type": "code",
   "execution_count": 12,
   "metadata": {
    "collapsed": false
   },
   "outputs": [
    {
     "data": {
      "text/plain": [
       "3.6055512754639891"
      ]
     },
     "execution_count": 12,
     "metadata": {},
     "output_type": "execute_result"
    }
   ],
   "source": [
    "dist"
   ]
  },
  {
   "cell_type": "code",
   "execution_count": 14,
   "metadata": {
    "collapsed": false
   },
   "outputs": [
    {
     "data": {
      "text/plain": [
       "3.6055512754639891"
      ]
     },
     "execution_count": 14,
     "metadata": {},
     "output_type": "execute_result"
    }
   ],
   "source": [
    "import numpy as np\n",
    "euclidean_distance = np.sqrt(np.sum((array1 - array2)**2))\n",
    "euclidean_distance"
   ]
  },
  {
   "cell_type": "code",
   "execution_count": null,
   "metadata": {
    "collapsed": true
   },
   "outputs": [],
   "source": [
    "# cosine distance = 1 - cosine similarity = 1−xTy||x||||y||"
   ]
  },
  {
   "cell_type": "code",
   "execution_count": 15,
   "metadata": {
    "collapsed": false
   },
   "outputs": [
    {
     "data": {
      "text/plain": [
       "0.5648058601107554"
      ]
     },
     "execution_count": 15,
     "metadata": {},
     "output_type": "execute_result"
    }
   ],
   "source": [
    "import numpy as np\n",
    "\n",
    "array1 = np.array(x, dtype=float)\n",
    "array2 = np.array(y, dtype=float)\n",
    "\n",
    "cosine_similarity = np.dot(array1, array2)/(np.sqrt(np.sum(array1**2)) * np.sqrt(np.sum(array2**2)))\n",
    "cosine_distance = 1 - cosine_similarity\n",
    "cosine_distance"
   ]
  },
  {
   "cell_type": "code",
   "execution_count": null,
   "metadata": {
    "collapsed": true
   },
   "outputs": [],
   "source": []
  }
 ],
 "metadata": {
  "kernelspec": {
   "display_name": "Python 2",
   "language": "python",
   "name": "python2"
  },
  "language_info": {
   "codemirror_mode": {
    "name": "ipython",
    "version": 2
   },
   "file_extension": ".py",
   "mimetype": "text/x-python",
   "name": "python",
   "nbconvert_exporter": "python",
   "pygments_lexer": "ipython2",
   "version": "2.7.11"
  }
 },
 "nbformat": 4,
 "nbformat_minor": 0
}
